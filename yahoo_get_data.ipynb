{
  "nbformat": 4,
  "nbformat_minor": 0,
  "metadata": {
    "colab": {
      "name": "Untitled",
      "provenance": [],
      "include_colab_link": true
    },
    "kernelspec": {
      "name": "python3",
      "display_name": "Python 3"
    }
  },
  "cells": [
    {
      "cell_type": "markdown",
      "metadata": {
        "id": "view-in-github",
        "colab_type": "text"
      },
      "source": [
        "<a href=\"https://colab.research.google.com/github/JadeSCLim/fistRep/blob/master/yahoo_get_data.ipynb\" target=\"_parent\"><img src=\"https://colab.research.google.com/assets/colab-badge.svg\" alt=\"Open In Colab\"/></a>"
      ]
    },
    {
      "cell_type": "code",
      "metadata": {
        "id": "DWpb8C27mtfg",
        "colab_type": "code",
        "outputId": "56d93e98-6e8f-432a-8900-275093bc52b4",
        "colab": {
          "base_uri": "https://localhost:8080/",
          "height": 283
        }
      },
      "source": [
        "pip install yahoo-historical"
      ],
      "execution_count": 0,
      "outputs": [
        {
          "output_type": "stream",
          "text": [
            "Collecting yahoo-historical\n",
            "  Downloading https://files.pythonhosted.org/packages/85/7e/1a7943065d02d800d6d3b90af774f99c83982b143c91a7d299c1fccadb19/yahoo_historical-0.3.2-py3-none-any.whl\n",
            "Requirement already satisfied: setuptools in /usr/local/lib/python3.6/dist-packages (from yahoo-historical) (42.0.2)\n",
            "Requirement already satisfied: pandas in /usr/local/lib/python3.6/dist-packages (from yahoo-historical) (0.25.3)\n",
            "Requirement already satisfied: requests in /usr/local/lib/python3.6/dist-packages (from yahoo-historical) (2.21.0)\n",
            "Requirement already satisfied: pytz>=2017.2 in /usr/local/lib/python3.6/dist-packages (from pandas->yahoo-historical) (2018.9)\n",
            "Requirement already satisfied: python-dateutil>=2.6.1 in /usr/local/lib/python3.6/dist-packages (from pandas->yahoo-historical) (2.6.1)\n",
            "Requirement already satisfied: numpy>=1.13.3 in /usr/local/lib/python3.6/dist-packages (from pandas->yahoo-historical) (1.17.4)\n",
            "Requirement already satisfied: chardet<3.1.0,>=3.0.2 in /usr/local/lib/python3.6/dist-packages (from requests->yahoo-historical) (3.0.4)\n",
            "Requirement already satisfied: urllib3<1.25,>=1.21.1 in /usr/local/lib/python3.6/dist-packages (from requests->yahoo-historical) (1.24.3)\n",
            "Requirement already satisfied: certifi>=2017.4.17 in /usr/local/lib/python3.6/dist-packages (from requests->yahoo-historical) (2019.11.28)\n",
            "Requirement already satisfied: idna<2.9,>=2.5 in /usr/local/lib/python3.6/dist-packages (from requests->yahoo-historical) (2.8)\n",
            "Requirement already satisfied: six>=1.5 in /usr/local/lib/python3.6/dist-packages (from python-dateutil>=2.6.1->pandas->yahoo-historical) (1.12.0)\n",
            "Installing collected packages: yahoo-historical\n",
            "Successfully installed yahoo-historical-0.3.2\n"
          ],
          "name": "stdout"
        }
      ]
    },
    {
      "cell_type": "code",
      "metadata": {
        "id": "zQDtktifl24i",
        "colab_type": "code",
        "colab": {}
      },
      "source": [
        "import pandas_datareader as pdr\n",
        "import datetime \n",
        "aapl = pdr.get_data_yahoo('INTU.L', \n",
        "                          start=datetime.datetime(2018, 10, 1), \n",
        "                          end=datetime.datetime(2019, 12, 23))"
      ],
      "execution_count": 0,
      "outputs": []
    },
    {
      "cell_type": "code",
      "metadata": {
        "id": "xhLNvEx_l7tW",
        "colab_type": "code",
        "colab": {
          "base_uri": "https://localhost:8080/",
          "height": 141
        },
        "outputId": "76aa58d3-98bc-4c9b-a343-04d6cbab76a2"
      },
      "source": [
        "ni = aapl.tail()\n",
        "print(ni)"
      ],
      "execution_count": 23,
      "outputs": [
        {
          "output_type": "stream",
          "text": [
            "                 High        Low       Open      Close     Volume  Adj Close\n",
            "Date                                                                        \n",
            "2019-12-17  35.799999  32.299999  35.799999  33.500000  4830687.0  33.500000\n",
            "2019-12-18  34.930000  33.270000  34.599998  34.279999  2385647.0  34.279999\n",
            "2019-12-19  35.240002  33.669998  34.419998  33.669998  1964796.0  33.669998\n",
            "2019-12-20  34.520000  33.049999  34.520000  33.750000  4465930.0  33.750000\n",
            "2019-12-23  34.919998  33.009899  34.689999  33.860001   625062.0  33.860001\n"
          ],
          "name": "stdout"
        }
      ]
    },
    {
      "cell_type": "code",
      "metadata": {
        "id": "a0iLiD-9mLqe",
        "colab_type": "code",
        "colab": {}
      },
      "source": [
        ""
      ],
      "execution_count": 0,
      "outputs": []
    }
  ]
}